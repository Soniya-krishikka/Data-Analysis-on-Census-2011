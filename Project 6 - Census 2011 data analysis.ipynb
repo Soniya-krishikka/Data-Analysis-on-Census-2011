data = pd.read_csv(r"C:\\Users\\s####\\OneDrive\\Documents\\Documents\\Courses\\Python - Data Analytics - Real World Hands-on Projects\\Project 6 - Census 2011.csv")
